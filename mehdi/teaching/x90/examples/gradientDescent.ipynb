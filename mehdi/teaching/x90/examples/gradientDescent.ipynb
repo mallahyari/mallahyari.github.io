{
 "cells": [
  {
   "cell_type": "code",
   "execution_count": null,
   "metadata": {
    "collapsed": true
   },
   "outputs": [],
   "source": [
    "import numpy as np\n",
    "import matplotlib.pyplot as plt\n",
    "\n",
    "\n",
    "%matplotlib inline\n"
   ]
  },
  {
   "cell_type": "code",
   "execution_count": 128,
   "metadata": {
    "collapsed": true
   },
   "outputs": [],
   "source": [
    "# y = mx + b\n",
    "# w is slope, b is y-intercept\n",
    "\n",
    "def computeError(w, b, data):\n",
    "    totalError = 0;\n",
    "    for i in range(0,len(data)):\n",
    "        x = data[i, 0]\n",
    "        y = data[i, 1]\n",
    "        totalError += (y - (w * x + b)) ** 2\n",
    "    return float(totalError / len(data))"
   ]
  },
  {
   "cell_type": "code",
   "execution_count": 44,
   "metadata": {
    "collapsed": true
   },
   "outputs": [],
   "source": [
    "def stepGradient(cur_w, cur_b, data, learning_rate):\n",
    "    w_gradient = 0\n",
    "    b_gradient = 0;\n",
    "    N = float(len(data))\n",
    "    for i in range(0, len(data)):\n",
    "        x = data[i, 0]\n",
    "        y = data[i, 1]\n",
    "        w_gradient += -(2/N) * x * (y - (cur_w * x + cur_b))\n",
    "        b_gradient += -(2/N) * (y - (cur_w * x + cur_b))\n",
    "    new_w = cur_w - (learning_rate * w_gradient)\n",
    "    new_b = cur_b - (learning_rate * b_gradient)\n",
    "    return [new_w, new_b]\n",
    "        "
   ]
  },
  {
   "cell_type": "code",
   "execution_count": 46,
   "metadata": {
    "collapsed": true
   },
   "outputs": [],
   "source": [
    "def run_GradientDescent(data, starting_w, starting_b, learning_rate, num_iterations):\n",
    "    w = starting_w\n",
    "    b = starting_b\n",
    "    params = []\n",
    "#     err = []\n",
    "    for i in range(num_iterations):\n",
    "        w, b = stepGradient(w, b, data, learning_rate)\n",
    "        params.append([w,b])\n",
    "#         err.append([computeError(w,b,data)])\n",
    "#         print(\"error = \",err)\n",
    "#         np.append(ar,[w,b])\n",
    "#         print(\"b = {0}, w = {1}\".format(b,w))\n",
    "    return params"
   ]
  },
  {
   "cell_type": "code",
   "execution_count": 47,
   "metadata": {
    "collapsed": true
   },
   "outputs": [],
   "source": [
    "def read_data():\n",
    "    np.random.seed(1)\n",
    "    x = np.random.rand(100)\n",
    "    ep = np.random.normal(scale=0.01, size=len(x))\n",
    "    y = 0.1 + 0.3 * x + ep\n",
    "    data = np.asarray([x,y]).T\n",
    "    return data\n",
    "    "
   ]
  },
  {
   "cell_type": "code",
   "execution_count": 129,
   "metadata": {
    "collapsed": true
   },
   "outputs": [],
   "source": [
    "def run():\n",
    "    data = np.loadtxt(\"data.csv\", delimiter = ',')\n",
    "#     data = read_data()\n",
    "    learning_rate = 0.0001\n",
    "    initial_w = 0;\n",
    "    initial_b = 0;\n",
    "    num_iterations = 10000\n",
    "    print(\"Starting Gradient Descent with w = {0}, b = {1}, and error = {2}\".format(initial_w, initial_b, computeError(initial_w, initial_b, data)))\n",
    "    print(\"Running...\")\n",
    "    all_params = np.asarray(run_GradientDescent(data, initial_w, initial_b, learning_rate, num_iterations))\n",
    "    w = all_params[num_iterations - 1,0]\n",
    "    b = all_params[num_iterations - 1,1]\n",
    "#     print(w)\n",
    "#     [w, b] = run_GradientDescent(data, initial_w, initial_b, learning_rate, num_iterations)\n",
    "    print(\"After {0} iterations b = {1}, w = {2}, error = {3}\".format(num_iterations, b, w, computeError(w, b, data)))\n",
    "    return all_params"
   ]
  },
  {
   "cell_type": "code",
   "execution_count": 115,
   "metadata": {},
   "outputs": [
    {
     "name": "stdout",
     "output_type": "stream",
     "text": [
      "Starting Gradient Descent with w = 0, b = 0, and error = 5565.107834483211\n",
      "Running...\n",
      "After 10000 iterations b = 0.6078985997054931, w = 1.4675440436333027, error = 112.31533427075733\n"
     ]
    }
   ],
   "source": [
    "pr = 0\n",
    "if __name__ == \"__main__\":\n",
    "    pr = run()"
   ]
  },
  {
   "cell_type": "code",
   "execution_count": 121,
   "metadata": {},
   "outputs": [],
   "source": [
    "d = np.loadtxt(\"data.csv\", delimiter = ',')\n",
    "# d = read_data()"
   ]
  },
  {
   "cell_type": "code",
   "execution_count": 122,
   "metadata": {},
   "outputs": [],
   "source": [
    "x = d[:,0]\n",
    "y = d[:,1]"
   ]
  },
  {
   "cell_type": "code",
   "execution_count": 126,
   "metadata": {},
   "outputs": [],
   "source": [
    "w = pr[:,0]\n",
    "b = pr[:,1]"
   ]
  },
  {
   "cell_type": "code",
   "execution_count": 127,
   "metadata": {},
   "outputs": [
    {
     "data": {
      "image/png": "[encoded data removed]",
      "text/plain": [
       "<matplotlib.figure.Figure at 0x10bbff860>"
      ]
     },
     "metadata": {},
     "output_type": "display_data"
    }
   ],
   "source": [
    "plt.scatter(x,y)\n",
    "c = 0;\n",
    "for i,j in zip(w,b):\n",
    "    if c == 0 or (c + 1) % 1000 == 0:\n",
    "        plt.plot(x,i*x+j)\n",
    "    c = c + 1\n",
    "    "
   ]
  },
  {
   "cell_type": "code",
   "execution_count": null,
   "metadata": {},
   "outputs": [],
   "source": []
  },
  {
   "cell_type": "code",
   "execution_count": null,
   "metadata": {},
   "outputs": [],
   "source": []
  },
  {
   "cell_type": "code",
   "execution_count": null,
   "metadata": {},
   "outputs": [],
   "source": []
  },
  {
   "cell_type": "code",
   "execution_count": null,
   "metadata": {},
   "outputs": [],
   "source": [
    "\n"
   ]
  },
  {
   "cell_type": "code",
   "execution_count": null,
   "metadata": {},
   "outputs": [],
   "source": []
  },
  {
   "cell_type": "code",
   "execution_count": null,
   "metadata": {},
   "outputs": [],
   "source": []
  },
  {
   "cell_type": "code",
   "execution_count": null,
   "metadata": {},
   "outputs": [],
   "source": []
  },
  {
   "cell_type": "code",
   "execution_count": null,
   "metadata": {
    "collapsed": true
   },
   "outputs": [],
   "source": []
  }
 ],
 "metadata": {
  "kernelspec": {
   "display_name": "Python 3",
   "language": "python",
   "name": "python3"
  },
  "language_info": {
   "codemirror_mode": {
    "name": "ipython",
    "version": 3
   },
   "file_extension": ".py",
   "mimetype": "text/x-python",
   "name": "python",
   "nbconvert_exporter": "python",
   "pygments_lexer": "ipython3",
   "version": "3.6.3"
  }
 },
 "nbformat": 4,
 "nbformat_minor": 2
}
